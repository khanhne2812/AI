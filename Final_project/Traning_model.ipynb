{
  "nbformat": 4,
  "nbformat_minor": 0,
  "metadata": {
    "colab": {
      "provenance": [],
      "gpuType": "T4",
      "authorship_tag": "ABX9TyNrz9MZF32Cb8/RJ6wSazHP",
      "include_colab_link": true
    },
    "kernelspec": {
      "name": "python3",
      "display_name": "Python 3"
    },
    "language_info": {
      "name": "python"
    },
    "accelerator": "GPU",
    "gpuClass": "standard"
  },
  "cells": [
    {
      "cell_type": "markdown",
      "metadata": {
        "id": "view-in-github",
        "colab_type": "text"
      },
      "source": [
        "<a href=\"https://colab.research.google.com/github/khanhne28/BT_AI/blob/main/Final_project/Traning_model.ipynb\" target=\"_parent\"><img src=\"https://colab.research.google.com/assets/colab-badge.svg\" alt=\"Open In Colab\"/></a>"
      ]
    },
    {
      "cell_type": "code",
      "execution_count": null,
      "metadata": {
        "id": "BZXOa2ROagh7"
      },
      "outputs": [],
      "source": [
        "# Khai báo và sử dụng các thư viện sau\n",
        "from sklearn.model_selection import train_test_split\n",
        "import matplotlib.pyplot as plt\n",
        "import os\n",
        "import numpy as np\n",
        "import tensorflow as tf\n",
        "from keras.utils import np_utils\n",
        "from keras.models import Sequential\n",
        "from keras.layers import Dense, Activation, Dropout, Conv2D, MaxPooling2D, Flatten,  LeakyReLU\n",
        "from tensorflow.keras.optimizers import SGD, RMSprop\n",
        "from keras.callbacks import EarlyStopping, ModelCheckpoint\n",
        "from sklearn.utils import validation \n",
        "from sklearn import preprocessing\n",
        "from tensorflow.keras.utils import to_categorical\n",
        "from tensorflow.keras.models import load_model\n",
        "from tensorflow.keras.utils import load_img, img_to_array\n",
        "from tensorflow.keras.preprocessing.image import ImageDataGenerator"
      ]
    },
    {
      "cell_type": "code",
      "source": [
        "from google.colab import drive\n",
        "drive.mount('/content/drive')"
      ],
      "metadata": {
        "colab": {
          "base_uri": "https://localhost:8080/"
        },
        "id": "Q1Jo7e-La1In",
        "outputId": "c8f64ee2-b35b-425e-8dc7-dea77f5ba8cd"
      },
      "execution_count": null,
      "outputs": [
        {
          "output_type": "stream",
          "name": "stdout",
          "text": [
            "Mounted at /content/drive\n"
          ]
        }
      ]
    },
    {
      "cell_type": "code",
      "source": [
        "train=ImageDataGenerator(rescale=1./255, shear_range=0.2, zoom_range=0.2, horizontal_flip=True)"
      ],
      "metadata": {
        "id": "zOBrxjPIbMQl"
      },
      "execution_count": null,
      "outputs": []
    },
    {
      "cell_type": "code",
      "source": [
        "# Tạo bộ dữ liệu training set\n",
        "training_set=train.flow_from_directory('/content/drive/MyDrive/Final AI/Data/Train',\n",
        "                                               target_size=(100,100), batch_size=32, class_mode='categorical')\n"
      ],
      "metadata": {
        "colab": {
          "base_uri": "https://localhost:8080/"
        },
        "id": "i8nhKxJ0bPH6",
        "outputId": "493fdafd-a34d-431d-83a1-39a5c996005b"
      },
      "execution_count": null,
      "outputs": [
        {
          "output_type": "stream",
          "name": "stdout",
          "text": [
            "Found 642 images belonging to 61 classes.\n"
          ]
        }
      ]
    },
    {
      "cell_type": "code",
      "source": [
        "training_set.class_indices"
      ],
      "metadata": {
        "colab": {
          "base_uri": "https://localhost:8080/"
        },
        "id": "uB3mKAmCjC_F",
        "outputId": "ad6743b8-d4b7-48f7-c9ad-77bebd9b9a6a"
      },
      "execution_count": null,
      "outputs": [
        {
          "output_type": "execute_result",
          "data": {
            "text/plain": [
              "{'CamDiBo': 0,\n",
              " 'CamDung-DoXe': 1,\n",
              " 'CamNguocChieu': 2,\n",
              " 'CamOto-OtoKhach': 3,\n",
              " 'CamQuayDau': 4,\n",
              " 'CamRePhai': 5,\n",
              " 'CamReTrai': 6,\n",
              " 'CamXeDap': 7,\n",
              " 'CamXeMay': 8,\n",
              " 'CamXeTai': 9,\n",
              " 'ChayTheoVongXuyen': 10,\n",
              " 'ChiDuocDiThangVaRePhai': 11,\n",
              " 'ChiDuocDiThangVaReTrai': 12,\n",
              " 'ChiDuocRePhai': 13,\n",
              " 'ChiDuocReTrai': 14,\n",
              " 'ChoNgoatNguyHiem': 15,\n",
              " 'CongTruong': 16,\n",
              " 'DanhChoNguoiDiBo': 17,\n",
              " 'DocNguyHiem': 18,\n",
              " 'DungLai': 19,\n",
              " 'Duong2Chieu': 20,\n",
              " 'DuongBiThuHep': 21,\n",
              " 'DuongCam': 22,\n",
              " 'DuongCaoTocPhiaTruoc': 23,\n",
              " 'DuongCoCapDien': 24,\n",
              " 'DuongCoTreEm': 25,\n",
              " 'DuongDaLo': 26,\n",
              " 'DuongDanhChoOto': 27,\n",
              " 'DuongDanhChoOto-XeMay': 28,\n",
              " 'DuongDanhChoXeMay': 29,\n",
              " 'DuongDanhChoXeThoSo': 30,\n",
              " 'DuongDoi': 31,\n",
              " 'DuongGiaoNhauCungCap': 32,\n",
              " 'DuongHam': 33,\n",
              " 'DuongHayXayRaTaiNan': 34,\n",
              " 'DuongNguoiDiBoCatNgang': 35,\n",
              " 'DuongTronTruot': 36,\n",
              " 'DuongXeDapCatNgang': 37,\n",
              " 'GiaoDuongSatCoRao': 38,\n",
              " 'GiaoDuongSatKhongRao': 39,\n",
              " 'GiaoNhauCoTinHieuDen': 40,\n",
              " 'GiaoNhauDuongKhongUuTien': 41,\n",
              " 'GiaoNhauDuongUuTien': 42,\n",
              " 'HanCheChieuCao': 43,\n",
              " 'HanCheChieuNgangXe': 44,\n",
              " 'HanCheTaiTrong': 45,\n",
              " 'HetDoanDuongDanhChoOto-XeMay': 46,\n",
              " 'HetHanCheTocDoToiThieu': 47,\n",
              " 'HetKhuDanCu': 48,\n",
              " 'HuongDiThangPhaiTheo': 49,\n",
              " 'KeVucSau': 50,\n",
              " 'KetThucDuongDoi': 51,\n",
              " 'KhuDanCu': 52,\n",
              " 'KhuVucDoXe': 53,\n",
              " 'LanDuongDanhChoOto': 54,\n",
              " 'LeDuongNguyHiem': 55,\n",
              " 'ReTraiVaPhai': 56,\n",
              " 'TocDoToiDa': 57,\n",
              " 'TocDoToiThieuChoPhep': 58,\n",
              " 'TuyenDuongCauVuotCatQua': 59,\n",
              " 'UnTacGiaoThong': 60}"
            ]
          },
          "metadata": {},
          "execution_count": 6
        }
      ]
    },
    {
      "cell_type": "code",
      "source": [
        "model=Sequential()\n",
        "\n",
        "model.add(Conv2D(32,(3,3), activation='linear', kernel_initializer='he_uniform', padding='same',input_shape=(100,100,3))) \n",
        "model.add(LeakyReLU(alpha = 0.1))\n",
        "model.add(MaxPooling2D((2,2), padding = 'same'))\n",
        "\n",
        "\n",
        "model.add(Conv2D(64,(3,3), activation='linear', kernel_initializer='he_uniform', padding='same')) \n",
        "model.add(LeakyReLU(alpha = 0.1))\n",
        "model.add(MaxPooling2D((2,2), padding = 'same'))\n",
        "\n",
        "model.add(Conv2D(128,(3,3), activation='linear', kernel_initializer='he_uniform', padding='same')) \n",
        "model.add(LeakyReLU(alpha = 0.1))\n",
        "model.add(MaxPooling2D((2,2), padding = 'same'))\n",
        "\n",
        "model.add(Flatten())\n",
        "model.add(Dense(256,activation='linear',kernel_initializer='he_uniform'))\n",
        "model.add(Dropout(0.2))\n",
        "model.add(LeakyReLU(alpha = 0.1))\n",
        "model.add(Dense(61,activation='softmax'))\n",
        "\n",
        "# Biên dịch \n",
        "model.compile(optimizer='adam',loss='categorical_crossentropy',metrics=['accuracy'])\n",
        "model.summary() "
      ],
      "metadata": {
        "colab": {
          "base_uri": "https://localhost:8080/"
        },
        "id": "vT_LF_bOk6CI",
        "outputId": "34051726-ceb2-4013-900b-48e267a9f3e1"
      },
      "execution_count": null,
      "outputs": [
        {
          "output_type": "stream",
          "name": "stdout",
          "text": [
            "Model: \"sequential\"\n",
            "_________________________________________________________________\n",
            " Layer (type)                Output Shape              Param #   \n",
            "=================================================================\n",
            " conv2d (Conv2D)             (None, 100, 100, 32)      896       \n",
            "                                                                 \n",
            " leaky_re_lu (LeakyReLU)     (None, 100, 100, 32)      0         \n",
            "                                                                 \n",
            " max_pooling2d (MaxPooling2D  (None, 50, 50, 32)       0         \n",
            " )                                                               \n",
            "                                                                 \n",
            " conv2d_1 (Conv2D)           (None, 50, 50, 64)        18496     \n",
            "                                                                 \n",
            " leaky_re_lu_1 (LeakyReLU)   (None, 50, 50, 64)        0         \n",
            "                                                                 \n",
            " max_pooling2d_1 (MaxPooling  (None, 25, 25, 64)       0         \n",
            " 2D)                                                             \n",
            "                                                                 \n",
            " conv2d_2 (Conv2D)           (None, 25, 25, 128)       73856     \n",
            "                                                                 \n",
            " leaky_re_lu_2 (LeakyReLU)   (None, 25, 25, 128)       0         \n",
            "                                                                 \n",
            " max_pooling2d_2 (MaxPooling  (None, 13, 13, 128)      0         \n",
            " 2D)                                                             \n",
            "                                                                 \n",
            " flatten (Flatten)           (None, 21632)             0         \n",
            "                                                                 \n",
            " dense (Dense)               (None, 256)               5538048   \n",
            "                                                                 \n",
            " dropout (Dropout)           (None, 256)               0         \n",
            "                                                                 \n",
            " leaky_re_lu_3 (LeakyReLU)   (None, 256)               0         \n",
            "                                                                 \n",
            " dense_1 (Dense)             (None, 61)                15677     \n",
            "                                                                 \n",
            "=================================================================\n",
            "Total params: 5,646,973\n",
            "Trainable params: 5,646,973\n",
            "Non-trainable params: 0\n",
            "_________________________________________________________________\n"
          ]
        }
      ]
    },
    {
      "cell_type": "code",
      "source": [
        "history=model.fit(training_set,epochs=50,batch_size=128,verbose=1)"
      ],
      "metadata": {
        "colab": {
          "base_uri": "https://localhost:8080/"
        },
        "id": "-AN_ThLrk-nJ",
        "outputId": "fc4004de-060f-4665-80b8-3c66324de251"
      },
      "execution_count": null,
      "outputs": [
        {
          "output_type": "stream",
          "name": "stdout",
          "text": [
            "Epoch 1/50\n",
            "21/21 [==============================] - 202s 9s/step - loss: 5.3204 - accuracy: 0.0561\n",
            "Epoch 2/50\n",
            "21/21 [==============================] - 4s 163ms/step - loss: 3.7313 - accuracy: 0.0966\n",
            "Epoch 3/50\n",
            "21/21 [==============================] - 4s 187ms/step - loss: 3.2543 - accuracy: 0.1495\n",
            "Epoch 4/50\n",
            "21/21 [==============================] - 4s 182ms/step - loss: 2.7309 - accuracy: 0.2741\n",
            "Epoch 5/50\n",
            "21/21 [==============================] - 4s 175ms/step - loss: 2.3437 - accuracy: 0.3598\n",
            "Epoch 6/50\n",
            "21/21 [==============================] - 4s 182ms/step - loss: 1.9716 - accuracy: 0.4424\n",
            "Epoch 7/50\n",
            "21/21 [==============================] - 4s 198ms/step - loss: 1.6198 - accuracy: 0.5280\n",
            "Epoch 8/50\n",
            "21/21 [==============================] - 4s 173ms/step - loss: 1.3102 - accuracy: 0.6231\n",
            "Epoch 9/50\n",
            "21/21 [==============================] - 4s 175ms/step - loss: 1.1919 - accuracy: 0.6417\n",
            "Epoch 10/50\n",
            "21/21 [==============================] - 4s 191ms/step - loss: 1.0216 - accuracy: 0.7040\n",
            "Epoch 11/50\n",
            "21/21 [==============================] - 4s 177ms/step - loss: 0.9458 - accuracy: 0.7212\n",
            "Epoch 12/50\n",
            "21/21 [==============================] - 4s 206ms/step - loss: 0.9021 - accuracy: 0.7414\n",
            "Epoch 13/50\n",
            "21/21 [==============================] - 4s 202ms/step - loss: 0.7223 - accuracy: 0.8100\n",
            "Epoch 14/50\n",
            "21/21 [==============================] - 4s 172ms/step - loss: 0.6485 - accuracy: 0.8364\n",
            "Epoch 15/50\n",
            "21/21 [==============================] - 4s 174ms/step - loss: 0.5001 - accuracy: 0.8629\n",
            "Epoch 16/50\n",
            "21/21 [==============================] - 5s 228ms/step - loss: 0.5364 - accuracy: 0.8474\n",
            "Epoch 17/50\n",
            "21/21 [==============================] - 4s 173ms/step - loss: 0.5952 - accuracy: 0.8474\n",
            "Epoch 18/50\n",
            "21/21 [==============================] - 4s 174ms/step - loss: 0.3991 - accuracy: 0.8910\n",
            "Epoch 19/50\n",
            "21/21 [==============================] - 4s 195ms/step - loss: 0.3250 - accuracy: 0.9034\n",
            "Epoch 20/50\n",
            "21/21 [==============================] - 4s 173ms/step - loss: 0.3197 - accuracy: 0.9159\n",
            "Epoch 21/50\n",
            "21/21 [==============================] - 4s 175ms/step - loss: 0.2637 - accuracy: 0.9268\n",
            "Epoch 22/50\n",
            "21/21 [==============================] - 4s 185ms/step - loss: 0.2459 - accuracy: 0.9330\n",
            "Epoch 23/50\n",
            "21/21 [==============================] - 4s 211ms/step - loss: 0.2370 - accuracy: 0.9502\n",
            "Epoch 24/50\n",
            "21/21 [==============================] - 4s 172ms/step - loss: 0.2180 - accuracy: 0.9470\n",
            "Epoch 25/50\n",
            "21/21 [==============================] - 4s 171ms/step - loss: 0.2418 - accuracy: 0.9315\n",
            "Epoch 26/50\n",
            "21/21 [==============================] - 5s 223ms/step - loss: 0.2827 - accuracy: 0.9221\n",
            "Epoch 27/50\n",
            "21/21 [==============================] - 4s 172ms/step - loss: 0.2647 - accuracy: 0.9424\n",
            "Epoch 28/50\n",
            "21/21 [==============================] - 4s 175ms/step - loss: 0.2533 - accuracy: 0.9361\n",
            "Epoch 29/50\n",
            "21/21 [==============================] - 4s 204ms/step - loss: 0.1586 - accuracy: 0.9611\n",
            "Epoch 30/50\n",
            "21/21 [==============================] - 4s 173ms/step - loss: 0.1283 - accuracy: 0.9611\n",
            "Epoch 31/50\n",
            "21/21 [==============================] - 4s 171ms/step - loss: 0.1730 - accuracy: 0.9564\n",
            "Epoch 32/50\n",
            "21/21 [==============================] - 4s 185ms/step - loss: 0.1601 - accuracy: 0.9564\n",
            "Epoch 33/50\n",
            "21/21 [==============================] - 4s 167ms/step - loss: 0.0965 - accuracy: 0.9657\n",
            "Epoch 34/50\n",
            "21/21 [==============================] - 4s 160ms/step - loss: 0.2372 - accuracy: 0.9315\n",
            "Epoch 35/50\n",
            "21/21 [==============================] - 4s 198ms/step - loss: 0.2330 - accuracy: 0.9268\n",
            "Epoch 36/50\n",
            "21/21 [==============================] - 4s 170ms/step - loss: 0.1956 - accuracy: 0.9393\n",
            "Epoch 37/50\n",
            "21/21 [==============================] - 4s 171ms/step - loss: 0.1960 - accuracy: 0.9470\n",
            "Epoch 38/50\n",
            "21/21 [==============================] - 4s 180ms/step - loss: 0.1442 - accuracy: 0.9595\n",
            "Epoch 39/50\n",
            "21/21 [==============================] - 4s 174ms/step - loss: 0.1191 - accuracy: 0.9595\n",
            "Epoch 40/50\n",
            "21/21 [==============================] - 4s 167ms/step - loss: 0.0918 - accuracy: 0.9735\n",
            "Epoch 41/50\n",
            "21/21 [==============================] - 4s 198ms/step - loss: 0.0804 - accuracy: 0.9766\n",
            "Epoch 42/50\n",
            "21/21 [==============================] - 4s 189ms/step - loss: 0.0784 - accuracy: 0.9766\n",
            "Epoch 43/50\n",
            "21/21 [==============================] - 4s 169ms/step - loss: 0.1017 - accuracy: 0.9704\n",
            "Epoch 44/50\n",
            "21/21 [==============================] - 4s 168ms/step - loss: 0.0726 - accuracy: 0.9813\n",
            "Epoch 45/50\n",
            "21/21 [==============================] - 4s 191ms/step - loss: 0.0664 - accuracy: 0.9860\n",
            "Epoch 46/50\n",
            "21/21 [==============================] - 4s 167ms/step - loss: 0.0762 - accuracy: 0.9860\n",
            "Epoch 47/50\n",
            "21/21 [==============================] - 4s 168ms/step - loss: 0.0704 - accuracy: 0.9829\n",
            "Epoch 48/50\n",
            "21/21 [==============================] - 5s 219ms/step - loss: 0.0471 - accuracy: 0.9829\n",
            "Epoch 49/50\n",
            "21/21 [==============================] - 4s 168ms/step - loss: 0.0572 - accuracy: 0.9798\n",
            "Epoch 50/50\n",
            "21/21 [==============================] - 4s 168ms/step - loss: 0.0889 - accuracy: 0.9673\n"
          ]
        }
      ]
    },
    {
      "cell_type": "code",
      "source": [
        "model.save('/content/drive/MyDrive/Final AI/TrafficSign.h5')"
      ],
      "metadata": {
        "id": "VMvSbj9Xqg_x"
      },
      "execution_count": null,
      "outputs": []
    },
    {
      "cell_type": "code",
      "source": [
        "plt.figure(0)\n",
        "plt.plot(history.history['accuracy'], label='training accuracy')\n",
        "\n",
        "plt.title('Accuracy')\n",
        "plt.xlabel('epochs')\n",
        "plt.ylabel('accuracy')\n",
        "plt.legend()\n",
        "plt.show()\n",
        "plt.figure(1)\n",
        "plt.plot(history.history['loss'], label='training loss')\n",
        "\n",
        "plt.title('Loss')\n",
        "plt.xlabel('epochs')\n",
        "plt.ylabel('loss')\n",
        "plt.legend()\n",
        "plt.show()"
      ],
      "metadata": {
        "colab": {
          "base_uri": "https://localhost:8080/",
          "height": 927
        },
        "id": "4StIKKavq9LZ",
        "outputId": "f536b2ed-cdcc-401e-ebf1-99a7bfd792bb"
      },
      "execution_count": null,
      "outputs": [
        {
          "output_type": "display_data",
          "data": {
            "text/plain": [
              "<Figure size 640x480 with 1 Axes>"
            ],
            "image/png": "[encoded data removed]"
          },
          "metadata": {}
        },
        {
          "output_type": "display_data",
          "data": {
            "text/plain": [
              "<Figure size 640x480 with 1 Axes>"
            ],
            "image/png": "[encoded data removed]"
          },
          "metadata": {}
        }
      ]
    },
    {
      "cell_type": "code",
      "source": [],
      "metadata": {
        "id": "XWMxedNSW8Ws"
      },
      "execution_count": null,
      "outputs": []
    }
  ]
}